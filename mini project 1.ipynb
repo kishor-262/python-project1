{
 "cells": [
  {
   "cell_type": "markdown",
   "metadata": {},
   "source": [
    "1) Quiz game"
   ]
  },
  {
   "cell_type": "code",
   "execution_count": 1,
   "metadata": {},
   "outputs": [
    {
     "name": "stdout",
     "output_type": "stream",
     "text": [
      "Welcome to Computer Quiz!\n"
     ]
    }
   ],
   "source": [
    "print(\"Welcome to Computer Quiz!\")\n",
    "\n",
    "playing = input(\"Do you want to play? \")\n",
    "\n",
    "if playing.lower() != \"Yes\":\n",
    "    quit()\n",
    "\n",
    "print(\"Okay! Let's play\")\n",
    "score = 0\n",
    "\n",
    "answer = input(\"What does CPU stands for? \")\n",
    "if answer.lower() == \"central processing unit\":\n",
    "    print('Correct!')\n",
    "    score += 1\n",
    "else:\n",
    "    print(\"Incorrect\")\n",
    "\n",
    "answer = input(\"What does GUI stands for? \")\n",
    "if answer.lower() == \"grapical user interface\":\n",
    "    print('correct!')\n",
    "    score += 1\n",
    "else:\n",
    "    print(\"Incorrect\")\n",
    "\n",
    "answer = input(\"What does RAM stands for? \")\n",
    "if answer.lower() == \"random access memory\":\n",
    "    print('Correct!')\n",
    "    score += 1\n",
    "else:\n",
    "    print(\"Incorrect\")\n",
    "\n",
    "answer = input(\"What does ROM satnds for? \")\n",
    "if answer.lower() == \"read only memory\":\n",
    "    print('Correct!')\n",
    "    score += 1\n",
    "else:\n",
    "    print(\"Incorrect\")\n",
    "\n",
    "answer = input(\"What does PSU stands for? \")\n",
    "if answer.lower() == \"power supply\":\n",
    "    print('Correct!')\n",
    "    score += 1\n",
    "else:\n",
    "    print(\"Incorrect\")\n",
    "\n",
    "answer = input(\"What does GPU stands for? \")\n",
    "if answer.lower() == \"grapics processing unit\":\n",
    "    print('Correct!')\n",
    "    score += 1\n",
    "else:\n",
    "    print(\"Incorrect\")\n",
    "\n",
    "print(\"you got\" + str(score) + \"questions correct\")\n",
    "print(\"you got\" + str((score / 6)* 100) + \"%\")"
   ]
  },
  {
   "cell_type": "code",
   "execution_count": null,
   "metadata": {},
   "outputs": [],
   "source": []
  }
 ],
 "metadata": {
  "kernelspec": {
   "display_name": "base",
   "language": "python",
   "name": "python3"
  },
  "language_info": {
   "codemirror_mode": {
    "name": "ipython",
    "version": 3
   },
   "file_extension": ".py",
   "mimetype": "text/x-python",
   "name": "python",
   "nbconvert_exporter": "python",
   "pygments_lexer": "ipython3",
   "version": "3.11.4"
  },
  "orig_nbformat": 4
 },
 "nbformat": 4,
 "nbformat_minor": 2
}
